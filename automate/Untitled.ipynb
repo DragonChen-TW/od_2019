{
 "cells": [
  {
   "cell_type": "code",
   "execution_count": 6,
   "metadata": {},
   "outputs": [],
   "source": [
    "from selenium import webdriver\n",
    "from selenium.webdriver.common.action_chains import ActionChains\n",
    "from selenium.common.exceptions import NoSuchElementException\n",
    "from selenium.webdriver.common.by import By\n",
    "from selenium.webdriver.support.ui import WebDriverWait\n",
    "from selenium.webdriver.support import expected_conditions as EC\n",
    "import time"
   ]
  },
  {
   "cell_type": "code",
   "execution_count": 15,
   "metadata": {},
   "outputs": [],
   "source": [
    "driver = webdriver.Chrome()\n",
    "driver.maximize_window()"
   ]
  },
  {
   "cell_type": "code",
   "execution_count": 25,
   "metadata": {},
   "outputs": [],
   "source": [
    "driver.get('https://semap.moi.gov.tw/STATViewer/Web/Map/STATViewer_Map.aspx')\n",
    "driver.find_element_by_id('Locate').click()\n",
    "time.sleep(1)"
   ]
  },
  {
   "cell_type": "code",
   "execution_count": 26,
   "metadata": {},
   "outputs": [],
   "source": [
    "driver.find_element_by_id('ui-id-12').click()\n",
    "driver.find_element_by_css_selector(\"label[for='LocateBox_Coord_WGS84']\").click()\n",
    "driver.find_element_by_id('LocateBox_Coord_Work_WGS84_lng').clear()\n",
    "driver.find_element_by_id('LocateBox_Coord_Work_WGS84_lat').clear()\n",
    "driver.find_element_by_id('LocateBox_Coord_Work_WGS84_lng').send_keys('121.533012')\n",
    "driver.find_element_by_id('LocateBox_Coord_Work_WGS84_lat').send_keys('25.042385')\n",
    "driver.find_element_by_id('LocateBox_Coord_Work_WGS84_Locate').click()\n",
    "\n",
    "time.sleep(1)\n",
    "driver.find_element_by_css_selector(\"img[class='PointStatInfo']\").click()"
   ]
  },
  {
   "cell_type": "code",
   "execution_count": 45,
   "metadata": {},
   "outputs": [
    {
     "data": {
      "text/plain": [
       "{'一級': 'A6303-03-007',\n",
       " '二級': 'A6303-03',\n",
       " '最小': 'A6303-0066-00',\n",
       " '村里': '民輝里',\n",
       " '縣市': '臺北市',\n",
       " '鄉鎮市區': '大安區'}"
      ]
     },
     "execution_count": 45,
     "metadata": {},
     "output_type": "execute_result"
    }
   ],
   "source": [
    "res = driver.find_element_by_class_name('PointStatInfoBox_STUnitBts')\n",
    "tds = res.find_elements_by_tag_name('td')\n",
    "\n",
    "tds[1] # << to await\n",
    "\n",
    "{tds[i].text: tds[i + 1].text for i in range(0, len(tds), 2)}"
   ]
  }
 ],
 "metadata": {
  "kernelspec": {
   "display_name": "Python 3",
   "language": "python",
   "name": "python3"
  },
  "language_info": {
   "codemirror_mode": {
    "name": "ipython",
    "version": 3
   },
   "file_extension": ".py",
   "mimetype": "text/x-python",
   "name": "python",
   "nbconvert_exporter": "python",
   "pygments_lexer": "ipython3",
   "version": "3.6.4"
  }
 },
 "nbformat": 4,
 "nbformat_minor": 2
}
