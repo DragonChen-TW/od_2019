{
 "cells": [
  {
   "cell_type": "code",
   "execution_count": 4,
   "metadata": {},
   "outputs": [],
   "source": [
    "import os, csv\n",
    "import pandas as pd\n",
    "import numpy as np\n",
    "import matplotlib.pyplot as plt"
   ]
  },
  {
   "cell_type": "markdown",
   "metadata": {},
   "source": [
    "### 老化指數"
   ]
  },
  {
   "cell_type": "code",
   "execution_count": 8,
   "metadata": {},
   "outputs": [],
   "source": [
    "data_dir = './'\n",
    "csv_name = '107_12_people.csv'\n",
    "\n",
    "f_csv = os.path.join(data_dir, csv_name)\n",
    "csv_data = pd.read_csv(f_csv, header=0, skiprows=1)"
   ]
  },
  {
   "cell_type": "code",
   "execution_count": 11,
   "metadata": {},
   "outputs": [
    {
     "data": {
      "text/html": [
       "<div>\n",
       "<style scoped>\n",
       "    .dataframe tbody tr th:only-of-type {\n",
       "        vertical-align: middle;\n",
       "    }\n",
       "\n",
       "    .dataframe tbody tr th {\n",
       "        vertical-align: top;\n",
       "    }\n",
       "\n",
       "    .dataframe thead th {\n",
       "        text-align: right;\n",
       "    }\n",
       "</style>\n",
       "<table border=\"1\" class=\"dataframe\">\n",
       "  <thead>\n",
       "    <tr style=\"text-align: right;\">\n",
       "      <th></th>\n",
       "      <th>二級發布區代碼</th>\n",
       "      <th>一級發布區代碼</th>\n",
       "      <th>最小統計區代碼</th>\n",
       "      <th>性比例</th>\n",
       "      <th>戶量</th>\n",
       "      <th>人口密度</th>\n",
       "      <th>扶養比</th>\n",
       "      <th>扶幼比</th>\n",
       "      <th>扶老比</th>\n",
       "      <th>老化指數</th>\n",
       "      <th>資料時間</th>\n",
       "    </tr>\n",
       "  </thead>\n",
       "  <tbody>\n",
       "    <tr>\n",
       "      <th>0</th>\n",
       "      <td>Dec-31</td>\n",
       "      <td>A6401-01-001</td>\n",
       "      <td>A6401-0002-00</td>\n",
       "      <td>87.21</td>\n",
       "      <td>2.37</td>\n",
       "      <td>23440.87</td>\n",
       "      <td>41.23</td>\n",
       "      <td>5.26</td>\n",
       "      <td>35.96</td>\n",
       "      <td>683.33</td>\n",
       "      <td>107Y12M</td>\n",
       "    </tr>\n",
       "    <tr>\n",
       "      <th>1</th>\n",
       "      <td>Dec-31</td>\n",
       "      <td>A6401-01-001</td>\n",
       "      <td>A6401-0004-00</td>\n",
       "      <td>80.65</td>\n",
       "      <td>2.80</td>\n",
       "      <td>26216.02</td>\n",
       "      <td>24.44</td>\n",
       "      <td>4.44</td>\n",
       "      <td>20.00</td>\n",
       "      <td>450.00</td>\n",
       "      <td>107Y12M</td>\n",
       "    </tr>\n",
       "    <tr>\n",
       "      <th>2</th>\n",
       "      <td>Dec-31</td>\n",
       "      <td>A6401-01-002</td>\n",
       "      <td>A6401-0005-00</td>\n",
       "      <td>97.72</td>\n",
       "      <td>2.54</td>\n",
       "      <td>66191.04</td>\n",
       "      <td>34.59</td>\n",
       "      <td>17.74</td>\n",
       "      <td>16.85</td>\n",
       "      <td>95.00</td>\n",
       "      <td>107Y12M</td>\n",
       "    </tr>\n",
       "    <tr>\n",
       "      <th>3</th>\n",
       "      <td>Dec-31</td>\n",
       "      <td>A6401-01-003</td>\n",
       "      <td>A6401-0006-00</td>\n",
       "      <td>89.94</td>\n",
       "      <td>2.17</td>\n",
       "      <td>34971.63</td>\n",
       "      <td>31.30</td>\n",
       "      <td>12.17</td>\n",
       "      <td>19.13</td>\n",
       "      <td>157.14</td>\n",
       "      <td>107Y12M</td>\n",
       "    </tr>\n",
       "    <tr>\n",
       "      <th>4</th>\n",
       "      <td>Dec-31</td>\n",
       "      <td>A6401-01-004</td>\n",
       "      <td>A6401-0008-00</td>\n",
       "      <td>70.97</td>\n",
       "      <td>2.52</td>\n",
       "      <td>5558.79</td>\n",
       "      <td>51.43</td>\n",
       "      <td>14.29</td>\n",
       "      <td>37.14</td>\n",
       "      <td>260.00</td>\n",
       "      <td>107Y12M</td>\n",
       "    </tr>\n",
       "    <tr>\n",
       "      <th>5</th>\n",
       "      <td>Dec-31</td>\n",
       "      <td>A6401-01-004</td>\n",
       "      <td>A6401-0009-00</td>\n",
       "      <td>109.65</td>\n",
       "      <td>2.34</td>\n",
       "      <td>21998.94</td>\n",
       "      <td>42.26</td>\n",
       "      <td>11.90</td>\n",
       "      <td>30.36</td>\n",
       "      <td>255.00</td>\n",
       "      <td>107Y12M</td>\n",
       "    </tr>\n",
       "    <tr>\n",
       "      <th>6</th>\n",
       "      <td>Dec-31</td>\n",
       "      <td>A6401-01-004</td>\n",
       "      <td>A6401-0012-00</td>\n",
       "      <td>92.59</td>\n",
       "      <td>2.54</td>\n",
       "      <td>14857.13</td>\n",
       "      <td>44.44</td>\n",
       "      <td>11.11</td>\n",
       "      <td>33.33</td>\n",
       "      <td>300.00</td>\n",
       "      <td>107Y12M</td>\n",
       "    </tr>\n",
       "    <tr>\n",
       "      <th>7</th>\n",
       "      <td>Dec-31</td>\n",
       "      <td>A6401-01-005</td>\n",
       "      <td>A6401-0010-00</td>\n",
       "      <td>100.00</td>\n",
       "      <td>2.36</td>\n",
       "      <td>13703.31</td>\n",
       "      <td>66.20</td>\n",
       "      <td>18.31</td>\n",
       "      <td>47.89</td>\n",
       "      <td>261.54</td>\n",
       "      <td>107Y12M</td>\n",
       "    </tr>\n",
       "    <tr>\n",
       "      <th>8</th>\n",
       "      <td>Dec-31</td>\n",
       "      <td>A6401-01-005</td>\n",
       "      <td>A6401-0011-00</td>\n",
       "      <td>115.34</td>\n",
       "      <td>1.52</td>\n",
       "      <td>51692.13</td>\n",
       "      <td>45.77</td>\n",
       "      <td>10.00</td>\n",
       "      <td>35.77</td>\n",
       "      <td>357.69</td>\n",
       "      <td>107Y12M</td>\n",
       "    </tr>\n",
       "    <tr>\n",
       "      <th>9</th>\n",
       "      <td>Dec-31</td>\n",
       "      <td>A6401-01-006</td>\n",
       "      <td>A6401-0014-00</td>\n",
       "      <td>103.54</td>\n",
       "      <td>2.37</td>\n",
       "      <td>24779.8</td>\n",
       "      <td>41.98</td>\n",
       "      <td>11.73</td>\n",
       "      <td>30.25</td>\n",
       "      <td>257.89</td>\n",
       "      <td>107Y12M</td>\n",
       "    </tr>\n",
       "  </tbody>\n",
       "</table>\n",
       "</div>"
      ],
      "text/plain": [
       "  二級發布區代碼       一級發布區代碼        最小統計區代碼     性比例    戶量      人口密度    扶養比    扶幼比  \\\n",
       "0  Dec-31  A6401-01-001  A6401-0002-00   87.21  2.37  23440.87  41.23   5.26   \n",
       "1  Dec-31  A6401-01-001  A6401-0004-00   80.65  2.80  26216.02  24.44   4.44   \n",
       "2  Dec-31  A6401-01-002  A6401-0005-00   97.72  2.54  66191.04  34.59  17.74   \n",
       "3  Dec-31  A6401-01-003  A6401-0006-00   89.94  2.17  34971.63  31.30  12.17   \n",
       "4  Dec-31  A6401-01-004  A6401-0008-00   70.97  2.52   5558.79  51.43  14.29   \n",
       "5  Dec-31  A6401-01-004  A6401-0009-00  109.65  2.34  21998.94  42.26  11.90   \n",
       "6  Dec-31  A6401-01-004  A6401-0012-00   92.59  2.54  14857.13  44.44  11.11   \n",
       "7  Dec-31  A6401-01-005  A6401-0010-00  100.00  2.36  13703.31  66.20  18.31   \n",
       "8  Dec-31  A6401-01-005  A6401-0011-00  115.34  1.52  51692.13  45.77  10.00   \n",
       "9  Dec-31  A6401-01-006  A6401-0014-00  103.54  2.37   24779.8  41.98  11.73   \n",
       "\n",
       "     扶老比    老化指數     資料時間  \n",
       "0  35.96  683.33  107Y12M  \n",
       "1  20.00  450.00  107Y12M  \n",
       "2  16.85   95.00  107Y12M  \n",
       "3  19.13  157.14  107Y12M  \n",
       "4  37.14  260.00  107Y12M  \n",
       "5  30.36  255.00  107Y12M  \n",
       "6  33.33  300.00  107Y12M  \n",
       "7  47.89  261.54  107Y12M  \n",
       "8  35.77  357.69  107Y12M  \n",
       "9  30.25  257.89  107Y12M  "
      ]
     },
     "execution_count": 11,
     "metadata": {},
     "output_type": "execute_result"
    }
   ],
   "source": [
    "csv_data.head(10)"
   ]
  },
  {
   "cell_type": "code",
   "execution_count": 17,
   "metadata": {},
   "outputs": [
    {
     "name": "stdout",
     "output_type": "stream",
     "text": [
      "count    15622.000000\n",
      "mean       182.531346\n",
      "std        217.321449\n",
      "min          0.000000\n",
      "25%         66.670000\n",
      "50%        133.330000\n",
      "75%        230.000000\n",
      "max       6800.000000\n",
      "Name: 老化指數, dtype: float64\n"
     ]
    },
    {
     "data": {
      "text/plain": [
       "(array([1.5208e+04, 3.4500e+02, 4.7000e+01, 1.5000e+01, 3.0000e+00,\n",
       "        2.0000e+00, 1.0000e+00, 0.0000e+00, 0.0000e+00, 1.0000e+00]),\n",
       " array([   0.,  680., 1360., 2040., 2720., 3400., 4080., 4760., 5440.,\n",
       "        6120., 6800.]),\n",
       " <a list of 10 Patch objects>)"
      ]
     },
     "execution_count": 17,
     "metadata": {},
     "output_type": "execute_result"
    },
    {
     "data": {
      "image/png": "[encoded data removed]",
      "text/plain": [
       "<Figure size 432x288 with 1 Axes>"
      ]
     },
     "metadata": {
      "needs_background": "light"
     },
     "output_type": "display_data"
    }
   ],
   "source": [
    "old_point = csv_data['老化指數']\n",
    "# old_point = old_point[old_point < 1000]\n",
    "# old_point = np.log(old_point)\n",
    "print(old_point.describe())\n",
    "plt.hist(old_point)"
   ]
  },
  {
   "cell_type": "code",
   "execution_count": 24,
   "metadata": {},
   "outputs": [
    {
     "name": "stdout",
     "output_type": "stream",
     "text": [
      "672    162.5\n",
      "Name: 老化指數, dtype: float64\n"
     ]
    },
    {
     "data": {
      "text/html": [
       "<div>\n",
       "<style scoped>\n",
       "    .dataframe tbody tr th:only-of-type {\n",
       "        vertical-align: middle;\n",
       "    }\n",
       "\n",
       "    .dataframe tbody tr th {\n",
       "        vertical-align: top;\n",
       "    }\n",
       "\n",
       "    .dataframe thead th {\n",
       "        text-align: right;\n",
       "    }\n",
       "</style>\n",
       "<table border=\"1\" class=\"dataframe\">\n",
       "  <thead>\n",
       "    <tr style=\"text-align: right;\">\n",
       "      <th></th>\n",
       "      <th>二級發布區代碼</th>\n",
       "      <th>一級發布區代碼</th>\n",
       "      <th>最小統計區代碼</th>\n",
       "      <th>性比例</th>\n",
       "      <th>戶量</th>\n",
       "      <th>人口密度</th>\n",
       "      <th>扶養比</th>\n",
       "      <th>扶幼比</th>\n",
       "      <th>扶老比</th>\n",
       "      <th>老化指數</th>\n",
       "      <th>資料時間</th>\n",
       "    </tr>\n",
       "  </thead>\n",
       "  <tbody>\n",
       "    <tr>\n",
       "      <th>672</th>\n",
       "      <td>A6402-54</td>\n",
       "      <td>A6402-54-005</td>\n",
       "      <td>A6402-0575-00</td>\n",
       "      <td>99.29</td>\n",
       "      <td>2.27</td>\n",
       "      <td>12544.27</td>\n",
       "      <td>28.9</td>\n",
       "      <td>11.01</td>\n",
       "      <td>17.89</td>\n",
       "      <td>162.5</td>\n",
       "      <td>107Y12M</td>\n",
       "    </tr>\n",
       "  </tbody>\n",
       "</table>\n",
       "</div>"
      ],
      "text/plain": [
       "      二級發布區代碼       一級發布區代碼        最小統計區代碼    性比例    戶量      人口密度   扶養比  \\\n",
       "672  A6402-54  A6402-54-005  A6402-0575-00  99.29  2.27  12544.27  28.9   \n",
       "\n",
       "       扶幼比    扶老比   老化指數     資料時間  \n",
       "672  11.01  17.89  162.5  107Y12M  "
      ]
     },
     "execution_count": 24,
     "metadata": {},
     "output_type": "execute_result"
    }
   ],
   "source": [
    "code = 'A6402-0575-00'\n",
    "print(csv_data[csv_data['最小統計區代碼'] == code]['老化指數'])\n",
    "csv_data[csv_data['最小統計區代碼'] == code]"
   ]
  },
  {
   "cell_type": "markdown",
   "metadata": {},
   "source": [
    "### 醫療院所統計"
   ]
  },
  {
   "cell_type": "code",
   "execution_count": 28,
   "metadata": {},
   "outputs": [],
   "source": [
    "data_dir = './'\n",
    "csv_name = '107年12月高雄市統計區醫療院所統計_最小統計區.csv'\n",
    "\n",
    "f_csv = os.path.join(data_dir, csv_name)\n",
    "csv_data = pd.read_csv(f_csv, header=0, skiprows=1)"
   ]
  },
  {
   "cell_type": "code",
   "execution_count": 29,
   "metadata": {},
   "outputs": [
    {
     "data": {
      "text/html": [
       "<div>\n",
       "<style scoped>\n",
       "    .dataframe tbody tr th:only-of-type {\n",
       "        vertical-align: middle;\n",
       "    }\n",
       "\n",
       "    .dataframe tbody tr th {\n",
       "        vertical-align: top;\n",
       "    }\n",
       "\n",
       "    .dataframe thead th {\n",
       "        text-align: right;\n",
       "    }\n",
       "</style>\n",
       "<table border=\"1\" class=\"dataframe\">\n",
       "  <thead>\n",
       "    <tr style=\"text-align: right;\">\n",
       "      <th></th>\n",
       "      <th>二級發布區代碼</th>\n",
       "      <th>一級發布區代碼</th>\n",
       "      <th>最小統計區代碼</th>\n",
       "      <th>醫療院所家數</th>\n",
       "      <th>醫療院所床數</th>\n",
       "      <th>醫療院所平均每家服務人數</th>\n",
       "      <th>醫療院所平均每千人擁有病床數</th>\n",
       "      <th>資料時間</th>\n",
       "    </tr>\n",
       "  </thead>\n",
       "  <tbody>\n",
       "    <tr>\n",
       "      <th>0</th>\n",
       "      <td>A6401-01</td>\n",
       "      <td>A6401-01-001</td>\n",
       "      <td>A6401-0002-00</td>\n",
       "      <td>1</td>\n",
       "      <td>0</td>\n",
       "      <td>161.0</td>\n",
       "      <td>0.0</td>\n",
       "      <td>107Y12M</td>\n",
       "    </tr>\n",
       "    <tr>\n",
       "      <th>1</th>\n",
       "      <td>A6401-01</td>\n",
       "      <td>A6401-01-001</td>\n",
       "      <td>A6401-0004-00</td>\n",
       "      <td>0</td>\n",
       "      <td>0</td>\n",
       "      <td>0.0</td>\n",
       "      <td>0.0</td>\n",
       "      <td>107Y12M</td>\n",
       "    </tr>\n",
       "    <tr>\n",
       "      <th>2</th>\n",
       "      <td>A6401-01</td>\n",
       "      <td>A6401-01-002</td>\n",
       "      <td>A6401-0005-00</td>\n",
       "      <td>0</td>\n",
       "      <td>0</td>\n",
       "      <td>0.0</td>\n",
       "      <td>0.0</td>\n",
       "      <td>107Y12M</td>\n",
       "    </tr>\n",
       "    <tr>\n",
       "      <th>3</th>\n",
       "      <td>A6401-01</td>\n",
       "      <td>A6401-01-003</td>\n",
       "      <td>A6401-0006-00</td>\n",
       "      <td>0</td>\n",
       "      <td>0</td>\n",
       "      <td>0.0</td>\n",
       "      <td>0.0</td>\n",
       "      <td>107Y12M</td>\n",
       "    </tr>\n",
       "    <tr>\n",
       "      <th>4</th>\n",
       "      <td>A6401-01</td>\n",
       "      <td>A6401-01-004</td>\n",
       "      <td>A6401-0008-00</td>\n",
       "      <td>0</td>\n",
       "      <td>0</td>\n",
       "      <td>0.0</td>\n",
       "      <td>0.0</td>\n",
       "      <td>107Y12M</td>\n",
       "    </tr>\n",
       "  </tbody>\n",
       "</table>\n",
       "</div>"
      ],
      "text/plain": [
       "    二級發布區代碼       一級發布區代碼        最小統計區代碼  醫療院所家數  醫療院所床數  醫療院所平均每家服務人數  \\\n",
       "0  A6401-01  A6401-01-001  A6401-0002-00       1       0         161.0   \n",
       "1  A6401-01  A6401-01-001  A6401-0004-00       0       0           0.0   \n",
       "2  A6401-01  A6401-01-002  A6401-0005-00       0       0           0.0   \n",
       "3  A6401-01  A6401-01-003  A6401-0006-00       0       0           0.0   \n",
       "4  A6401-01  A6401-01-004  A6401-0008-00       0       0           0.0   \n",
       "\n",
       "   醫療院所平均每千人擁有病床數     資料時間  \n",
       "0             0.0  107Y12M  \n",
       "1             0.0  107Y12M  \n",
       "2             0.0  107Y12M  \n",
       "3             0.0  107Y12M  \n",
       "4             0.0  107Y12M  "
      ]
     },
     "execution_count": 29,
     "metadata": {},
     "output_type": "execute_result"
    }
   ],
   "source": [
    "csv_data.head()"
   ]
  },
  {
   "cell_type": "code",
   "execution_count": 31,
   "metadata": {},
   "outputs": [
    {
     "data": {
      "text/plain": [
       "0    15338\n",
       "1     1424\n",
       "2      415\n",
       "3      134\n",
       "4       43\n",
       "5       23\n",
       "6        6\n",
       "8        2\n",
       "9        1\n",
       "7        1\n",
       "Name: 醫療院所家數, dtype: int64"
      ]
     },
     "execution_count": 31,
     "metadata": {},
     "output_type": "execute_result"
    }
   ],
   "source": [
    "csv_data['醫療院所家數'].value_counts()"
   ]
  },
  {
   "cell_type": "code",
   "execution_count": 43,
   "metadata": {},
   "outputs": [
    {
     "data": {
      "text/plain": [
       "0     6561\n",
       "1     1128\n",
       "2      431\n",
       "3      144\n",
       "4       64\n",
       "5       31\n",
       "6       10\n",
       "7        7\n",
       "8        5\n",
       "9        2\n",
       "11       1\n",
       "Name: 醫療院所家數, dtype: int64"
      ]
     },
     "execution_count": 43,
     "metadata": {},
     "output_type": "execute_result"
    }
   ],
   "source": [
    "sum_hospital = csv_data.groupby('一級發布區代碼').sum()\n",
    "sum_hospital['醫療院所家數'].value_counts()\n",
    "# plt.hist(sum_hospital['醫療院所家數'])"
   ]
  },
  {
   "cell_type": "code",
   "execution_count": null,
   "metadata": {},
   "outputs": [],
   "source": []
  },
  {
   "cell_type": "code",
   "execution_count": null,
   "metadata": {},
   "outputs": [],
   "source": []
  }
 ],
 "metadata": {
  "kernelspec": {
   "display_name": "Python 3",
   "language": "python",
   "name": "python3"
  },
  "language_info": {
   "codemirror_mode": {
    "name": "ipython",
    "version": 3
   },
   "file_extension": ".py",
   "mimetype": "text/x-python",
   "name": "python",
   "nbconvert_exporter": "python",
   "pygments_lexer": "ipython3",
   "version": "3.7.1"
  }
 },
 "nbformat": 4,
 "nbformat_minor": 2
}
